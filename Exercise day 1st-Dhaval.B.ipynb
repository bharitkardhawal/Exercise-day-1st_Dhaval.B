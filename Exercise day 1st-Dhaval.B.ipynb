{
 "cells": [
  {
   "cell_type": "markdown",
   "id": "5b390c84",
   "metadata": {},
   "source": [
    "________________________________________________________________________________________________________________________\n",
    "- workshop , arranged 10th jan 2022 to 14th jan 2022, online..\n",
    "\n",
    "- Contact: 9975707273   Gmail: aistatics.info@gmail.com\n",
    "\n",
    "- Exercise: day1st\n",
    "\n",
    "_ _________________________________________________________________________________________________________________________\n",
    "_  _________________________________________________________________________________________________________________________"
   ]
  },
  {
   "cell_type": "code",
   "execution_count": 15,
   "id": "7e72f8d0",
   "metadata": {},
   "outputs": [
    {
     "data": {
      "text/plain": [
       "17038"
      ]
     },
     "execution_count": 15,
     "metadata": {},
     "output_type": "execute_result"
    }
   ],
   "source": [
    "import numpy as mp\n",
    "mp.random.randint(17021,17083)\n"
   ]
  },
  {
   "cell_type": "markdown",
   "id": "15700104",
   "metadata": {},
   "source": [
    "#### Print your  name using print function"
   ]
  },
  {
   "cell_type": "code",
   "execution_count": 2,
   "id": "2d5c1551",
   "metadata": {},
   "outputs": [
    {
     "name": "stdout",
     "output_type": "stream",
     "text": [
      "X Y Z\n"
     ]
    }
   ],
   "source": [
    "print(\"X Y Z\")"
   ]
  },
  {
   "cell_type": "markdown",
   "id": "bab303bf",
   "metadata": {},
   "source": [
    "#### Write True or False \n"
   ]
  },
  {
   "cell_type": "raw",
   "id": "6c3b3115",
   "metadata": {},
   "source": [
    "#After sentense write variable declaration whether it is true or False\n",
    "example:  abc=[1,2,4]     # True\n",
    "#A variable name must start with a letter or the underscore character\n",
    "#A variable name cannot start with a number\n",
    "#A variable name can only contain alpha-numeric characters and underscores (A-z, 0-9, and _ )\n",
    "#Variable names are case-sensitive (age, Age and AGE are three different variables)\n",
    "\n",
    "abs=3 ->T\n",
    "1__a=[123]  ->F\n",
    "a__1=[123] ->T\n",
    "__a=[\"1111\"] ->T\n",
    "kjklkj2=(1,2,3)\n",
    "xyz@=55  ->F\n",
    "x1234t5678990989898=[1,2,3] ->T\n",
    "1233=44  ->F\n",
    "@abs={1,2,3}  ->F\n",
    "pune=pune ->F\n",
    "pune=44  ->T\n",
    "pune123=44  ->T\n",
    "123pune=44 ->F\n",
    "1_@pune=44  ->F\n",
    "pune@123=44  ->F\n",
    "pune______12345=[\"pune\"]  ->T\n",
    "____pune=[\"123\"]  ->T\n",
    "a_1_b_2=abc  ->F\n",
    "\n"
   ]
  },
  {
   "cell_type": "markdown",
   "id": "4a4f6298",
   "metadata": {},
   "source": [
    "#### Difference between = and == (in Two lines)"
   ]
  },
  {
   "cell_type": "code",
   "execution_count": 37,
   "id": "453e1398",
   "metadata": {},
   "outputs": [
    {
     "data": {
      "text/plain": [
       "True"
      ]
     },
     "execution_count": 37,
     "metadata": {},
     "output_type": "execute_result"
    }
   ],
   "source": [
    "a=1 # = is assigned to variable\n",
    "1==1 # == comparative operator to compare strings,int, float"
   ]
  },
  {
   "cell_type": "markdown",
   "id": "89480911",
   "metadata": {},
   "source": [
    "#### What is difference between list and tuple (in Two lines)"
   ]
  },
  {
   "cell_type": "code",
   "execution_count": null,
   "id": "fc57734b",
   "metadata": {},
   "outputs": [],
   "source": [
    "a=(1,2,3)\n",
    "b=[4,5,6]"
   ]
  },
  {
   "cell_type": "code",
   "execution_count": 2,
   "id": "efc96cad",
   "metadata": {},
   "outputs": [
    {
     "ename": "NameError",
     "evalue": "name 'Print' is not defined",
     "output_type": "error",
     "traceback": [
      "\u001b[1;31m---------------------------------------------------------------------------\u001b[0m",
      "\u001b[1;31mNameError\u001b[0m                                 Traceback (most recent call last)",
      "\u001b[1;32m<ipython-input-2-0b9c86ccc503>\u001b[0m in \u001b[0;36m<module>\u001b[1;34m\u001b[0m\n\u001b[0;32m      1\u001b[0m \u001b[1;31m#reason of error\u001b[0m\u001b[1;33m\u001b[0m\u001b[1;33m\u001b[0m\u001b[1;33m\u001b[0m\u001b[0m\n\u001b[1;32m----> 2\u001b[1;33m \u001b[0mPrint\u001b[0m\u001b[1;33m(\u001b[0m\u001b[1;36m123\u001b[0m\u001b[1;33m)\u001b[0m\u001b[1;33m\u001b[0m\u001b[1;33m\u001b[0m\u001b[0m\n\u001b[0m",
      "\u001b[1;31mNameError\u001b[0m: name 'Print' is not defined"
     ]
    }
   ],
   "source": [
    "#reason of error \n",
    "#Python Case sensitive. small p for print"
   ]
  },
  {
   "cell_type": "code",
   "execution_count": 7,
   "id": "5eddaa03",
   "metadata": {},
   "outputs": [
    {
     "name": "stdout",
     "output_type": "stream",
     "text": [
      "123\n"
     ]
    }
   ],
   "source": [
    "print (123)"
   ]
  },
  {
   "cell_type": "markdown",
   "id": "fa7af009",
   "metadata": {},
   "source": [
    "#### Use Arithematic Operation for a and b, when a= 5,b=-5"
   ]
  },
  {
   "cell_type": "code",
   "execution_count": 38,
   "id": "7a77d1f8",
   "metadata": {},
   "outputs": [
    {
     "data": {
      "text/plain": [
       "0"
      ]
     },
     "execution_count": 38,
     "metadata": {},
     "output_type": "execute_result"
    }
   ],
   "source": [
    "a=5\n",
    "b=-5\n",
    "a+b"
   ]
  },
  {
   "cell_type": "code",
   "execution_count": 39,
   "id": "b39fd610",
   "metadata": {},
   "outputs": [
    {
     "data": {
      "text/plain": [
       "10"
      ]
     },
     "execution_count": 39,
     "metadata": {},
     "output_type": "execute_result"
    }
   ],
   "source": [
    "a-b"
   ]
  },
  {
   "cell_type": "code",
   "execution_count": 40,
   "id": "7def16e8",
   "metadata": {},
   "outputs": [
    {
     "data": {
      "text/plain": [
       "-1.0"
      ]
     },
     "execution_count": 40,
     "metadata": {},
     "output_type": "execute_result"
    }
   ],
   "source": [
    "float(a+b-1)"
   ]
  },
  {
   "cell_type": "code",
   "execution_count": 41,
   "id": "51aec3ac",
   "metadata": {},
   "outputs": [
    {
     "data": {
      "text/plain": [
       "-25"
      ]
     },
     "execution_count": 41,
     "metadata": {},
     "output_type": "execute_result"
    }
   ],
   "source": [
    "int(a*b)"
   ]
  },
  {
   "cell_type": "markdown",
   "id": "7a950973",
   "metadata": {},
   "source": [
    "#### Use Logical Operation for a and m=10,n=9"
   ]
  },
  {
   "cell_type": "code",
   "execution_count": 42,
   "id": "ea9440f5",
   "metadata": {},
   "outputs": [
    {
     "data": {
      "text/plain": [
       "True"
      ]
     },
     "execution_count": 42,
     "metadata": {},
     "output_type": "execute_result"
    }
   ],
   "source": [
    "#greater than\n",
    "m=10\n",
    "n=9\n",
    "m>a and n>a"
   ]
  },
  {
   "cell_type": "code",
   "execution_count": 44,
   "id": "0ca5b384",
   "metadata": {},
   "outputs": [
    {
     "data": {
      "text/plain": [
       "True"
      ]
     },
     "execution_count": 44,
     "metadata": {},
     "output_type": "execute_result"
    }
   ],
   "source": [
    "#less than\n",
    "a<m and a<n"
   ]
  },
  {
   "cell_type": "code",
   "execution_count": 45,
   "id": "ac403529",
   "metadata": {},
   "outputs": [
    {
     "data": {
      "text/plain": [
       "True"
      ]
     },
     "execution_count": 45,
     "metadata": {},
     "output_type": "execute_result"
    }
   ],
   "source": [
    "#not Equal to\n",
    "a!=m or a!=n"
   ]
  },
  {
   "cell_type": "code",
   "execution_count": 47,
   "id": "fac1ccc0",
   "metadata": {},
   "outputs": [
    {
     "data": {
      "text/plain": [
       "False"
      ]
     },
     "execution_count": 47,
     "metadata": {},
     "output_type": "execute_result"
    }
   ],
   "source": [
    "#Equal to\n",
    "a==n\n"
   ]
  },
  {
   "cell_type": "markdown",
   "id": "23da0368",
   "metadata": {},
   "source": [
    "#### Write code"
   ]
  },
  {
   "cell_type": "code",
   "execution_count": 99,
   "id": "17c65f2e",
   "metadata": {},
   "outputs": [
    {
     "data": {
      "text/plain": [
       "[23, 501, 'Pune', (1, 2, 3), 2.1, ['Pythonprogram']]"
      ]
     },
     "execution_count": 99,
     "metadata": {},
     "output_type": "execute_result"
    }
   ],
   "source": [
    "L=[23,501,\"Pune\",(1,2,3),2.1,[\"Python\"+\"program\"]]\n",
    "L[:]"
   ]
  },
  {
   "cell_type": "code",
   "execution_count": 100,
   "id": "dd31697e",
   "metadata": {},
   "outputs": [
    {
     "data": {
      "text/plain": [
       "'Pythonprogram'"
      ]
     },
     "execution_count": 100,
     "metadata": {},
     "output_type": "execute_result"
    }
   ],
   "source": [
    "L[5][0]"
   ]
  },
  {
   "cell_type": "code",
   "execution_count": 101,
   "id": "6ba5a501",
   "metadata": {},
   "outputs": [
    {
     "data": {
      "text/plain": [
       "501"
      ]
     },
     "execution_count": 101,
     "metadata": {},
     "output_type": "execute_result"
    }
   ],
   "source": [
    "L[1]"
   ]
  },
  {
   "cell_type": "code",
   "execution_count": 102,
   "id": "6c6e9ba6",
   "metadata": {},
   "outputs": [
    {
     "data": {
      "text/plain": [
       "['Pune', (1, 2, 3), 2.1]"
      ]
     },
     "execution_count": 102,
     "metadata": {},
     "output_type": "execute_result"
    }
   ],
   "source": [
    "L[2:5]"
   ]
  },
  {
   "cell_type": "code",
   "execution_count": 103,
   "id": "de97921d",
   "metadata": {},
   "outputs": [
    {
     "name": "stdout",
     "output_type": "stream",
     "text": [
      "[23, 501, 'Baramati', (1, 2, 3), 2.1, ['Pythonprogram']]\n"
     ]
    }
   ],
   "source": [
    "L.remove(\"Pune\")\n",
    "L.insert(2,\"Baramati\")\n",
    "print (L)"
   ]
  },
  {
   "cell_type": "code",
   "execution_count": 104,
   "id": "55a25806",
   "metadata": {},
   "outputs": [
    {
     "name": "stdout",
     "output_type": "stream",
     "text": [
      "[23, 501, 'Baramati', (1, 2, 3), 2.1, ['Pythonprogram'], 'TCC']\n"
     ]
    }
   ],
   "source": [
    "L.append(\"TCC\")\n",
    "print (L)"
   ]
  },
  {
   "cell_type": "code",
   "execution_count": 105,
   "id": "9c4ddf5f",
   "metadata": {},
   "outputs": [
    {
     "name": "stdout",
     "output_type": "stream",
     "text": [
      "[23, 501, 'Baramati', 2.1, ['Pythonprogram'], 'TCC']\n"
     ]
    }
   ],
   "source": [
    "L.pop(3)\n",
    "print (L)"
   ]
  },
  {
   "cell_type": "code",
   "execution_count": 106,
   "id": "04a328a0",
   "metadata": {},
   "outputs": [
    {
     "name": "stdout",
     "output_type": "stream",
     "text": [
      "[23, 501, (1, 2, 3), 'Baramati', 2.1, ['Pythonprogram'], 'TCC']\n"
     ]
    }
   ],
   "source": [
    "L.insert(2,(1,2,3))\n",
    "print (L)"
   ]
  },
  {
   "cell_type": "code",
   "execution_count": 107,
   "id": "17dbbe16",
   "metadata": {},
   "outputs": [
    {
     "name": "stdout",
     "output_type": "stream",
     "text": [
      "[]\n"
     ]
    }
   ],
   "source": [
    "L.clear()\n",
    "print (L)"
   ]
  },
  {
   "cell_type": "code",
   "execution_count": 108,
   "id": "fec9298a",
   "metadata": {},
   "outputs": [
    {
     "data": {
      "text/plain": [
       "(4, 6, 2)"
      ]
     },
     "execution_count": 108,
     "metadata": {},
     "output_type": "execute_result"
    }
   ],
   "source": [
    "t=(1,9,4,6,2)#tuple\n",
    "t[2:]"
   ]
  },
  {
   "cell_type": "code",
   "execution_count": 109,
   "id": "58b78762",
   "metadata": {},
   "outputs": [
    {
     "data": {
      "text/plain": [
       "(1, 9, 4)"
      ]
     },
     "execution_count": 109,
     "metadata": {},
     "output_type": "execute_result"
    }
   ],
   "source": [
    "t[:3]"
   ]
  },
  {
   "cell_type": "code",
   "execution_count": 26,
   "id": "c3017687",
   "metadata": {},
   "outputs": [
    {
     "data": {
      "text/plain": [
       "('a', 'b', 'c', 'd')"
      ]
     },
     "execution_count": 26,
     "metadata": {},
     "output_type": "execute_result"
    }
   ],
   "source": [
    "x = (\"a\", \"b\", \"c\", \"d\")\n",
    "x"
   ]
  },
  {
   "cell_type": "code",
   "execution_count": 116,
   "id": "91919940",
   "metadata": {},
   "outputs": [
    {
     "data": {
      "text/plain": [
       "'bd'"
      ]
     },
     "execution_count": 116,
     "metadata": {},
     "output_type": "execute_result"
    }
   ],
   "source": [
    "x = (\"a\", \"b\", \"c\", \"d\")\n",
    "x[1]+x[3]\n"
   ]
  },
  {
   "cell_type": "markdown",
   "id": "41854cd0",
   "metadata": {},
   "source": [
    "#### Convert  x variable  type in  list datatype and  check. "
   ]
  },
  {
   "cell_type": "code",
   "execution_count": 121,
   "id": "d021a60c",
   "metadata": {},
   "outputs": [
    {
     "data": {
      "text/plain": [
       "['a', 'b', 'c', 'd']"
      ]
     },
     "execution_count": 121,
     "metadata": {},
     "output_type": "execute_result"
    }
   ],
   "source": [
    "x=[\"a\",\"b\",\"c\",\"d\"]\n",
    "x"
   ]
  },
  {
   "cell_type": "code",
   "execution_count": 124,
   "id": "f53a6145",
   "metadata": {},
   "outputs": [
    {
     "data": {
      "text/plain": [
       "list"
      ]
     },
     "execution_count": 124,
     "metadata": {},
     "output_type": "execute_result"
    }
   ],
   "source": [
    "type (x)"
   ]
  },
  {
   "cell_type": "code",
   "execution_count": 130,
   "id": "41677e1c",
   "metadata": {},
   "outputs": [
    {
     "name": "stdout",
     "output_type": "stream",
     "text": [
      "\n",
      "\n",
      "\n",
      "18.0\n",
      "9.5\n",
      "living room\n"
     ]
    }
   ],
   "source": [
    "areas = [\"hallway\", 11.25, \"kitchen\", 18.0, \"living room\", 20.0, \"bedroom\", 10.75, \"bathroom\", 9.50]\n",
    "\n",
    "\n",
    "# Print out second element from areas\n",
    "print()\n",
    "\n",
    "# Print out last element from areas\n",
    "print()\n",
    "\n",
    "# Print out the area of the living room\n",
    "print()\n",
    "\n",
    "print(areas[3])\n",
    "print(areas[-1])\n",
    "print(areas[4])"
   ]
  },
  {
   "cell_type": "markdown",
   "id": "28d7cbbf",
   "metadata": {},
   "source": [
    "# Set and dict"
   ]
  },
  {
   "cell_type": "code",
   "execution_count": 58,
   "id": "f2bd1979",
   "metadata": {},
   "outputs": [
    {
     "data": {
      "text/plain": [
       "{'item1': 45.5, 'item2': 35, 'item3': 41.3, 'item4': 55, 'item5': 24}"
      ]
     },
     "execution_count": 58,
     "metadata": {},
     "output_type": "execute_result"
    }
   ],
   "source": [
    "Sample_data={'item1': 45.50, 'item2':35, 'item3': 41.30, 'item4':55, 'item5': 24}\n",
    "Sample_data"
   ]
  },
  {
   "cell_type": "code",
   "execution_count": 59,
   "id": "e99c955d",
   "metadata": {},
   "outputs": [
    {
     "data": {
      "text/plain": [
       "35"
      ]
     },
     "execution_count": 59,
     "metadata": {},
     "output_type": "execute_result"
    }
   ],
   "source": [
    "Sample_data[\"item2\"]"
   ]
  },
  {
   "cell_type": "code",
   "execution_count": 60,
   "id": "aacee0bf",
   "metadata": {},
   "outputs": [
    {
     "data": {
      "text/plain": [
       "35"
      ]
     },
     "execution_count": 60,
     "metadata": {},
     "output_type": "execute_result"
    }
   ],
   "source": [
    "Sample_data.get(\"item2\")"
   ]
  },
  {
   "cell_type": "code",
   "execution_count": 61,
   "id": "1bcb7e93",
   "metadata": {},
   "outputs": [
    {
     "data": {
      "text/plain": [
       "dict_values([45.5, 35, 41.3, 55, 24])"
      ]
     },
     "execution_count": 61,
     "metadata": {},
     "output_type": "execute_result"
    }
   ],
   "source": [
    "Sample_data.values()"
   ]
  },
  {
   "cell_type": "code",
   "execution_count": 62,
   "id": "66b2684e",
   "metadata": {},
   "outputs": [
    {
     "data": {
      "text/plain": [
       "dict_keys(['item1', 'item2', 'item3', 'item4', 'item5'])"
      ]
     },
     "execution_count": 62,
     "metadata": {},
     "output_type": "execute_result"
    }
   ],
   "source": [
    "Sample_data.keys()"
   ]
  },
  {
   "cell_type": "code",
   "execution_count": 63,
   "id": "373231cf",
   "metadata": {},
   "outputs": [
    {
     "data": {
      "text/plain": [
       "{'item1': 45.5, 'item2': 35, 'item3': 41.3, 'item4': 100, 'item5': 24}"
      ]
     },
     "execution_count": 63,
     "metadata": {},
     "output_type": "execute_result"
    }
   ],
   "source": [
    "Sample_data[\"item4\"]=100\n",
    "Sample_data"
   ]
  },
  {
   "cell_type": "code",
   "execution_count": 64,
   "id": "dfb4bf93",
   "metadata": {},
   "outputs": [
    {
     "name": "stdout",
     "output_type": "stream",
     "text": [
      "{'hallway': 11.25, 'kitchen': 18.0, 'living room': 20.0, 'bedroom': 10.75, 'bathroom': 9.5}\n"
     ]
    }
   ],
   "source": [
    "# Create the d\n",
    "d = {\"hallway\": 11.25, \"kitchen\":18.0, \"living room\": 20.0, \"bedroom\": 10.75, \"bathroom\": 9.50}\n",
    "print (d)"
   ]
  },
  {
   "cell_type": "code",
   "execution_count": 65,
   "id": "df135bf0",
   "metadata": {},
   "outputs": [
    {
     "name": "stdout",
     "output_type": "stream",
     "text": [
      "{'hallway': 11.25, 'kitchen': 18.0, 'living room': 20.0, 'bedroom': 10.75, 'bathroom': 10}\n"
     ]
    }
   ],
   "source": [
    "# Replace the bathroom area by 10\n",
    "d[\"bathroom\"]=10\n",
    "print (d)"
   ]
  },
  {
   "cell_type": "code",
   "execution_count": 66,
   "id": "9e565b9e",
   "metadata": {},
   "outputs": [
    {
     "name": "stdout",
     "output_type": "stream",
     "text": [
      "{'hallway': 11.25, 'kitchen': 18.0, 'bedroom': 10.75, 'bathroom': 10, 'chill zone': 20.0}\n"
     ]
    }
   ],
   "source": [
    "# Change \"living room\" to \"chill zone\"\n",
    "d[\"chill zone\"]=d[\"living room\"]\n",
    "del d[\"living room\"]\n",
    "print (d)"
   ]
  },
  {
   "cell_type": "markdown",
   "id": "ce502765",
   "metadata": {},
   "source": [
    "#### Create Empty set and check type"
   ]
  },
  {
   "cell_type": "code",
   "execution_count": 21,
   "id": "7cb1e1cc",
   "metadata": {},
   "outputs": [
    {
     "name": "stdout",
     "output_type": "stream",
     "text": [
      "<class 'dict'>\n",
      "set()\n"
     ]
    }
   ],
   "source": [
    "a={}\n",
    "print (type (a))\n",
    "\n",
    "a=set()\n",
    "type (a)\n",
    "print (a)"
   ]
  },
  {
   "cell_type": "markdown",
   "id": "c55d64cf",
   "metadata": {},
   "source": [
    "#### Create two sets name of X and Y and apply two methods "
   ]
  },
  {
   "cell_type": "code",
   "execution_count": 29,
   "id": "fdfe6d4a",
   "metadata": {},
   "outputs": [
    {
     "data": {
      "text/plain": [
       "{1, 2, 3, 4, 5}"
      ]
     },
     "execution_count": 29,
     "metadata": {},
     "output_type": "execute_result"
    }
   ],
   "source": [
    "x={1,2,3}\n",
    "y={3,4,5}\n",
    "x.union (y)"
   ]
  },
  {
   "cell_type": "code",
   "execution_count": 30,
   "id": "c412333c",
   "metadata": {},
   "outputs": [
    {
     "data": {
      "text/plain": [
       "{3}"
      ]
     },
     "execution_count": 30,
     "metadata": {},
     "output_type": "execute_result"
    }
   ],
   "source": [
    "x.intersection (y)"
   ]
  },
  {
   "cell_type": "code",
   "execution_count": 31,
   "id": "2ffadb30",
   "metadata": {},
   "outputs": [
    {
     "data": {
      "text/plain": [
       "{1, 2}"
      ]
     },
     "execution_count": 31,
     "metadata": {},
     "output_type": "execute_result"
    }
   ],
   "source": [
    "x-y"
   ]
  },
  {
   "cell_type": "code",
   "execution_count": 33,
   "id": "5f61215e",
   "metadata": {},
   "outputs": [
    {
     "data": {
      "text/plain": [
       "{4, 5}"
      ]
     },
     "execution_count": 33,
     "metadata": {},
     "output_type": "execute_result"
    }
   ],
   "source": [
    "y-x"
   ]
  },
  {
   "cell_type": "code",
   "execution_count": 34,
   "id": "9751da2c",
   "metadata": {},
   "outputs": [
    {
     "data": {
      "text/plain": [
       "{1, 2, 4, 5}"
      ]
     },
     "execution_count": 34,
     "metadata": {},
     "output_type": "execute_result"
    }
   ],
   "source": [
    "x^y"
   ]
  },
  {
   "cell_type": "markdown",
   "id": "1244f2f4",
   "metadata": {},
   "source": [
    "#### Create  list name of L1 and apply Five methods \n"
   ]
  },
  {
   "cell_type": "code",
   "execution_count": 22,
   "id": "285f0a1f",
   "metadata": {},
   "outputs": [
    {
     "name": "stdout",
     "output_type": "stream",
     "text": [
      "[1, 2, 3, 4, 5]\n"
     ]
    }
   ],
   "source": [
    "L1=[1,2,3,4]\n",
    "L1.append(5)\n",
    "print (L1)"
   ]
  },
  {
   "cell_type": "code",
   "execution_count": 23,
   "id": "9a734a22",
   "metadata": {},
   "outputs": [
    {
     "data": {
      "text/plain": [
       "[1, 2, 3, 4, 5]"
      ]
     },
     "execution_count": 23,
     "metadata": {},
     "output_type": "execute_result"
    }
   ],
   "source": [
    "L1[:]\n",
    "L1"
   ]
  },
  {
   "cell_type": "code",
   "execution_count": 24,
   "id": "1d02138c",
   "metadata": {},
   "outputs": [
    {
     "data": {
      "text/plain": [
       "5"
      ]
     },
     "execution_count": 24,
     "metadata": {},
     "output_type": "execute_result"
    }
   ],
   "source": [
    "len(L1)"
   ]
  },
  {
   "cell_type": "code",
   "execution_count": 25,
   "id": "329af0f7",
   "metadata": {},
   "outputs": [
    {
     "name": "stdout",
     "output_type": "stream",
     "text": [
      "[0, 1, 2, 3, 4, 5]\n"
     ]
    }
   ],
   "source": [
    "L1.insert(0,0)\n",
    "print (L1)"
   ]
  },
  {
   "cell_type": "code",
   "execution_count": 26,
   "id": "b4c06d1f",
   "metadata": {},
   "outputs": [
    {
     "data": {
      "text/plain": [
       "1"
      ]
     },
     "execution_count": 26,
     "metadata": {},
     "output_type": "execute_result"
    }
   ],
   "source": [
    "L1[1]"
   ]
  },
  {
   "cell_type": "code",
   "execution_count": 27,
   "id": "93cd1081",
   "metadata": {},
   "outputs": [
    {
     "name": "stdout",
     "output_type": "stream",
     "text": [
      "[0, 1, 2, 3, 4]\n"
     ]
    }
   ],
   "source": [
    "L1.remove(5)\n",
    "print (L1)"
   ]
  },
  {
   "cell_type": "markdown",
   "id": "298bb83c",
   "metadata": {},
   "source": [
    "#### Create  tuple name of T1 and apply two methods \n"
   ]
  },
  {
   "cell_type": "code",
   "execution_count": 31,
   "id": "6039931f",
   "metadata": {},
   "outputs": [
    {
     "data": {
      "text/plain": [
       "tuple"
      ]
     },
     "execution_count": 31,
     "metadata": {},
     "output_type": "execute_result"
    }
   ],
   "source": [
    "T1=(1,2,3,3,4,5,5)\n",
    "type (T1)"
   ]
  },
  {
   "cell_type": "code",
   "execution_count": 32,
   "id": "c8c4fc28",
   "metadata": {},
   "outputs": [
    {
     "data": {
      "text/plain": [
       "2"
      ]
     },
     "execution_count": 32,
     "metadata": {},
     "output_type": "execute_result"
    }
   ],
   "source": [
    "T1.count(3)\n"
   ]
  },
  {
   "cell_type": "code",
   "execution_count": 35,
   "id": "33e9db71",
   "metadata": {},
   "outputs": [
    {
     "data": {
      "text/plain": [
       "2"
      ]
     },
     "execution_count": 35,
     "metadata": {},
     "output_type": "execute_result"
    }
   ],
   "source": [
    "T1.index(3)"
   ]
  },
  {
   "cell_type": "markdown",
   "id": "3fd6a214",
   "metadata": {},
   "source": [
    "#### Create dict name of D1 and apply two methods \n"
   ]
  },
  {
   "cell_type": "code",
   "execution_count": 54,
   "id": "7ca46078",
   "metadata": {},
   "outputs": [
    {
     "data": {
      "text/plain": [
       "{'name': ['Rohit', 'Sumit', 'Dhaval'],\n",
       " 'age': [67, 62, 34],\n",
       " 'hobby': ['travelling', 'reading', 'cooking']}"
      ]
     },
     "execution_count": 54,
     "metadata": {},
     "output_type": "execute_result"
    }
   ],
   "source": [
    "D1={\"name\": [\"Rohit\",\"Sumit\",\"Dhaval\"], \"age\":[67,62,34], \"hobby\":[\"travelling\",\"reading\",\"cooking\"]}\n",
    "D1"
   ]
  },
  {
   "cell_type": "code",
   "execution_count": 55,
   "id": "ec308895",
   "metadata": {},
   "outputs": [
    {
     "data": {
      "text/html": [
       "<div>\n",
       "<style scoped>\n",
       "    .dataframe tbody tr th:only-of-type {\n",
       "        vertical-align: middle;\n",
       "    }\n",
       "\n",
       "    .dataframe tbody tr th {\n",
       "        vertical-align: top;\n",
       "    }\n",
       "\n",
       "    .dataframe thead th {\n",
       "        text-align: right;\n",
       "    }\n",
       "</style>\n",
       "<table border=\"1\" class=\"dataframe\">\n",
       "  <thead>\n",
       "    <tr style=\"text-align: right;\">\n",
       "      <th></th>\n",
       "      <th>name</th>\n",
       "      <th>age</th>\n",
       "      <th>hobby</th>\n",
       "    </tr>\n",
       "  </thead>\n",
       "  <tbody>\n",
       "    <tr>\n",
       "      <th>0</th>\n",
       "      <td>Rohit</td>\n",
       "      <td>67</td>\n",
       "      <td>travelling</td>\n",
       "    </tr>\n",
       "    <tr>\n",
       "      <th>1</th>\n",
       "      <td>Sumit</td>\n",
       "      <td>62</td>\n",
       "      <td>reading</td>\n",
       "    </tr>\n",
       "    <tr>\n",
       "      <th>2</th>\n",
       "      <td>Dhaval</td>\n",
       "      <td>34</td>\n",
       "      <td>cooking</td>\n",
       "    </tr>\n",
       "  </tbody>\n",
       "</table>\n",
       "</div>"
      ],
      "text/plain": [
       "     name  age       hobby\n",
       "0   Rohit   67  travelling\n",
       "1   Sumit   62     reading\n",
       "2  Dhaval   34     cooking"
      ]
     },
     "execution_count": 55,
     "metadata": {},
     "output_type": "execute_result"
    }
   ],
   "source": [
    "import pandas as pd\n",
    "pd.DataFrame(D1)"
   ]
  },
  {
   "cell_type": "code",
   "execution_count": 56,
   "id": "47c6e58c",
   "metadata": {},
   "outputs": [
    {
     "name": "stdout",
     "output_type": "stream",
     "text": [
      "{'name': ['Rohit', 'Sumit', 'Dhaval'], 'age': [67, 62, 34], 'hobby': ['travelling', 'reading', 'cooking'], 'Fav. Food': ['Maharastrian', 'Chinese', 'Punjabi']}\n"
     ]
    },
    {
     "data": {
      "text/html": [
       "<div>\n",
       "<style scoped>\n",
       "    .dataframe tbody tr th:only-of-type {\n",
       "        vertical-align: middle;\n",
       "    }\n",
       "\n",
       "    .dataframe tbody tr th {\n",
       "        vertical-align: top;\n",
       "    }\n",
       "\n",
       "    .dataframe thead th {\n",
       "        text-align: right;\n",
       "    }\n",
       "</style>\n",
       "<table border=\"1\" class=\"dataframe\">\n",
       "  <thead>\n",
       "    <tr style=\"text-align: right;\">\n",
       "      <th></th>\n",
       "      <th>name</th>\n",
       "      <th>age</th>\n",
       "      <th>hobby</th>\n",
       "      <th>Fav. Food</th>\n",
       "    </tr>\n",
       "  </thead>\n",
       "  <tbody>\n",
       "    <tr>\n",
       "      <th>0</th>\n",
       "      <td>Rohit</td>\n",
       "      <td>67</td>\n",
       "      <td>travelling</td>\n",
       "      <td>Maharastrian</td>\n",
       "    </tr>\n",
       "    <tr>\n",
       "      <th>1</th>\n",
       "      <td>Sumit</td>\n",
       "      <td>62</td>\n",
       "      <td>reading</td>\n",
       "      <td>Chinese</td>\n",
       "    </tr>\n",
       "    <tr>\n",
       "      <th>2</th>\n",
       "      <td>Dhaval</td>\n",
       "      <td>34</td>\n",
       "      <td>cooking</td>\n",
       "      <td>Punjabi</td>\n",
       "    </tr>\n",
       "  </tbody>\n",
       "</table>\n",
       "</div>"
      ],
      "text/plain": [
       "     name  age       hobby     Fav. Food\n",
       "0   Rohit   67  travelling  Maharastrian\n",
       "1   Sumit   62     reading       Chinese\n",
       "2  Dhaval   34     cooking       Punjabi"
      ]
     },
     "execution_count": 56,
     "metadata": {},
     "output_type": "execute_result"
    }
   ],
   "source": [
    "D1[\"Fav. Food\"]=[\"Maharastrian\",\"Chinese\",\"Punjabi\"]\n",
    "print (D1)\n",
    "pd.DataFrame(D1)"
   ]
  },
  {
   "cell_type": "markdown",
   "id": "420aa47d",
   "metadata": {},
   "source": [
    "#### Write variable declaration norms \n"
   ]
  },
  {
   "cell_type": "code",
   "execution_count": null,
   "id": "12962465",
   "metadata": {},
   "outputs": [],
   "source": [
    "#A variable name must start with a letter or the underscore character\n",
    "#A variable name cannot start with a number\n",
    "#A variable name can only contain alpha-numeric characters and underscores (A-z, 0-9, and _ )\n",
    "#Variable names are case-sensitive (age, Age and AGE are three different variables)"
   ]
  }
 ],
 "metadata": {
  "kernelspec": {
   "display_name": "Python 3 (ipykernel)",
   "language": "python",
   "name": "python3"
  },
  "language_info": {
   "codemirror_mode": {
    "name": "ipython",
    "version": 3
   },
   "file_extension": ".py",
   "mimetype": "text/x-python",
   "name": "python",
   "nbconvert_exporter": "python",
   "pygments_lexer": "ipython3",
   "version": "3.10.9"
  }
 },
 "nbformat": 4,
 "nbformat_minor": 5
}
